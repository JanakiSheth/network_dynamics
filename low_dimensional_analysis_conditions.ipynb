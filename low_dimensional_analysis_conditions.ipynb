{
 "cells": [
  {
   "cell_type": "code",
   "execution_count": 10,
   "metadata": {},
   "outputs": [],
   "source": [
    "import numpy as np\n",
    "import pdb\n",
    "import scipy\n",
    "from sklearn.decomposition import PCA\n",
    "from scipy.io import loadmat\n",
    "import matplotlib.pyplot as plt"
   ]
  },
  {
   "cell_type": "code",
   "execution_count": 11,
   "metadata": {},
   "outputs": [
    {
     "name": "stdout",
     "output_type": "stream",
     "text": [
      "[  4   6   8  15  17  28  29  33  34  37  39  43  56  73  74  79  80  83\n",
      "  94 114 124 127 134 143 184]\n"
     ]
    }
   ],
   "source": [
    "# loadmat function loads the file into a dictionary\n",
    "preprocessed = loadmat('MT063_20190909_preprocessed_rasters.mat')\n",
    "# neurons selected based on the mean response criteria\n",
    "neurons_with_fr_and_Ca_response = np.where(preprocessed['diff_mean_responsive_cells'][0] == 1)[0]\n",
    "print(neurons_with_fr_and_Ca_response)"
   ]
  },
  {
   "cell_type": "code",
   "execution_count": 12,
   "metadata": {},
   "outputs": [
    {
     "name": "stdout",
     "output_type": "stream",
     "text": [
      "(25, 210)\n",
      "(25, 2)\n",
      "[0.13679125 0.12199066]\n"
     ]
    },
    {
     "data": {
      "text/plain": [
       "(None, None, None)"
      ]
     },
     "execution_count": 12,
     "metadata": {},
     "output_type": "execute_result"
    },
    {
     "data": {
      "image/png": "[encoded data removed]",
      "text/plain": [
       "<Figure size 432x288 with 1 Axes>"
      ]
     },
     "metadata": {
      "needs_background": "light"
     },
     "output_type": "display_data"
    }
   ],
   "source": [
    "averaged_responses = preprocessed['raster_ordered_poststim'][:,neurons_with_fr_and_Ca_response]\n",
    "# shuffling responses to ensure no trivial correlation is found\n",
    "averaged_responses = np.transpose(averaged_responses)\n",
    "s = np.arange(averaged_responses.shape[0])\n",
    "np.random.shuffle(s)\n",
    "shuffled_avg_responses = averaged_responses[:,s]\n",
    "pca = PCA(n_components=2)\n",
    "principalComponents = pca.fit_transform(shuffled_avg_responses)\n",
    "\n",
    "fig, ax = plt.subplots()\n",
    "ax.scatter(principalComponents[:,0],principalComponents[:,1])\n",
    "for i in s:\n",
    "    ax.annotate(str(i), (principalComponents[i,0],principalComponents[i,1]))\n",
    "    \n",
    "print(averaged_responses.shape), print(principalComponents.shape), print(pca.explained_variance_ratio_)  "
   ]
  },
  {
   "cell_type": "code",
   "execution_count": 29,
   "metadata": {},
   "outputs": [
    {
     "name": "stdout",
     "output_type": "stream",
     "text": [
      "(3801, 197) (25, 3801) (25, 6) [0.28790716 0.13515082 0.08136608 0.07227382 0.04724    0.03696887] (6, 3801)\n"
     ]
    }
   ],
   "source": [
    "zscored_responses_tseries = \\\n",
    "preprocessed['raster_ordered_smoothed_mean_n_by_ct'][:,neurons_with_fr_and_Ca_response]\n",
    "zscored_responses_tseries = np.transpose(zscored_responses_tseries)\n",
    "pca = PCA(n_components=6)\n",
    "pc_tseries = pca.fit_transform(zscored_responses_tseries)\n",
    "print(preprocessed['raster_ordered_smoothed_mean_n_by_ct'].shape, \\\n",
    "zscored_responses_tseries.shape, pc_tseries.shape, pca.explained_variance_ratio_, pca.components_.shape)\n"
   ]
  },
  {
   "cell_type": "code",
   "execution_count": 34,
   "metadata": {},
   "outputs": [
    {
     "data": {
      "image/png": "[encoded data removed]",
      "text/plain": [
       "<Figure size 432x288 with 1 Axes>"
      ]
     },
     "metadata": {
      "needs_background": "light"
     },
     "output_type": "display_data"
    }
   ],
   "source": [
    "fig, ax = plt.subplots()\n",
    "if zscored_responses_tseries.shape[0] < preprocessed['raster_ordered_smoothed_n_by_ct'].shape[1]:\n",
    "    for i in s:\n",
    "        neuron = neurons_with_fr_and_Ca_response[s[i]]\n",
    "        if neuron in preprocessed['Ind_CellSelection'][2][0]-1:\n",
    "            ax.scatter(pc_tseries[i,0],pc_tseries[i,1],c='r')\n",
    "            ax.annotate(str(neuron), (pc_tseries[i,0],pc_tseries[i,1]))\n",
    "        if neuron in preprocessed['Ind_CellSelection'][3][0]-1:\n",
    "            ax.scatter(pc_tseries[i,0],pc_tseries[i,1],c='b')\n",
    "            ax.annotate(str(neuron), (pc_tseries[i,0],pc_tseries[i,1]))    \n",
    "        if neuron in preprocessed['Ind_CellSelection'][4][0]-1:\n",
    "            ax.scatter(pc_tseries[i,0],pc_tseries[i,1],c='y')\n",
    "            ax.annotate(str(neuron), (pc_tseries[i,0],pc_tseries[i,1]))    \n",
    "        if neuron in preprocessed['Ind_CellSelection'][5][0]-1:\n",
    "            ax.scatter(pc_tseries[i,0],pc_tseries[i,1],c='g')\n",
    "            ax.annotate(str(neuron), (pc_tseries[i,0],pc_tseries[i,1]))    \n",
    "        if neuron in preprocessed['Ind_CellSelection'][6][0]-1:\n",
    "            ax.scatter(pc_tseries[i,0],pc_tseries[i,1],c='m')\n",
    "            ax.annotate(str(neuron), (pc_tseries[i,0],pc_tseries[i,1]))\n",
    "        else:\n",
    "            ax.scatter(pc_tseries[i,0],pc_tseries[i,1],c='k')\n",
    "            ax.annotate(str(neuron), (pc_tseries[i,0],pc_tseries[i,1]))    "
   ]
  },
  {
   "cell_type": "code",
   "execution_count": 7,
   "metadata": {},
   "outputs": [
    {
     "data": {
      "text/plain": [
       "array([  4,   6,   8,  15,  17,  28,  29,  33,  34,  37,  39,  43,  56,\n",
       "        73,  74,  79,  80,  83,  94, 114, 124, 127, 134, 143, 184])"
      ]
     },
     "execution_count": 7,
     "metadata": {},
     "output_type": "execute_result"
    }
   ],
   "source": [
    "neurons_with_fr_and_Ca_response"
   ]
  },
  {
   "cell_type": "code",
   "execution_count": 33,
   "metadata": {},
   "outputs": [
    {
     "data": {
      "text/plain": [
       "array([[  3],\n",
       "       [  9],\n",
       "       [ 17],\n",
       "       [ 22],\n",
       "       [ 23],\n",
       "       [ 27],\n",
       "       [ 32],\n",
       "       [ 35],\n",
       "       [ 40],\n",
       "       [ 46],\n",
       "       [ 62],\n",
       "       [ 68],\n",
       "       [ 69],\n",
       "       [ 74],\n",
       "       [ 79],\n",
       "       [ 91],\n",
       "       [ 92],\n",
       "       [ 97],\n",
       "       [102],\n",
       "       [113],\n",
       "       [114],\n",
       "       [118],\n",
       "       [138],\n",
       "       [143],\n",
       "       [149],\n",
       "       [155],\n",
       "       [156],\n",
       "       [159],\n",
       "       [166],\n",
       "       [168],\n",
       "       [169],\n",
       "       [172],\n",
       "       [177],\n",
       "       [184],\n",
       "       [192],\n",
       "       [197]], dtype=uint8)"
      ]
     },
     "execution_count": 33,
     "metadata": {},
     "output_type": "execute_result"
    }
   ],
   "source": [
    "preprocessed['Ind_CellSelection'][2][0]"
   ]
  },
  {
   "cell_type": "code",
   "execution_count": null,
   "metadata": {},
   "outputs": [],
   "source": []
  }
 ],
 "metadata": {
  "kernelspec": {
   "display_name": "Python 3",
   "language": "python",
   "name": "python3"
  },
  "language_info": {
   "codemirror_mode": {
    "name": "ipython",
    "version": 3
   },
   "file_extension": ".py",
   "mimetype": "text/x-python",
   "name": "python",
   "nbconvert_exporter": "python",
   "pygments_lexer": "ipython3",
   "version": "3.7.8"
  }
 },
 "nbformat": 4,
 "nbformat_minor": 4
}
